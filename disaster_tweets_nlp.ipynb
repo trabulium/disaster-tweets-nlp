{
 "cells": [
  {
   "cell_type": "markdown",
   "metadata": {},
   "source": [
    "# NLP Disaster Tweets Classification\n",
    "## Natural Language Processing with Recurrent Neural Networks\n",
    "\n",
    "**Author**: Matthew Campbell  \n",
    "**Course**: Week 14 Module 4 - RNNs and NLP  \n",
    "**Date**: October 2025\n",
    "\n",
    "---"
   ]
  },
  {
   "cell_type": "markdown",
   "metadata": {},
   "source": [
    "## Table of Contents\n",
    "1. [Project Description](#1-project-description)\n",
    "2. [Data Description](#2-data-description)\n",
    "3. [Exploratory Data Analysis](#3-exploratory-data-analysis)\n",
    "4. [Data Preprocessing](#4-data-preprocessing)\n",
    "5. [Model Architecture](#5-model-architecture)\n",
    "6. [Results and Analysis](#6-results-and-analysis)\n",
    "7. [Conclusion](#7-conclusion)\n",
    "8. [GitHub Repository](#8-github-repository)\n",
    "9. [Kaggle Submission](#9-kaggle-submission)"
   ]
  }
 ],
 "metadata": {
  "kernelspec": {
   "display_name": "Python 3",
   "language": "python",
   "name": "python3"
  },
  "language_info": {
   "codemirror_mode": {
    "name": "ipython",
    "version": 3
   },
   "file_extension": ".py",
   "mimetype": "text/x-python",
   "name": "python",
   "nbconvert_exporter": "python",
   "pygments_lexer": "ipython3",
   "version": "3.12.0"
  }
 },
 "nbformat": 4,
 "nbformat_minor": 4
}
